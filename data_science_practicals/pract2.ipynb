{
 "cells": [
  {
   "cell_type": "code",
   "execution_count": null,
   "metadata": {},
   "outputs": [],
   "source": [
    "import pandas as pd\n",
    "import numpy as np\n",
    "from sklearn.model_selection import train_test_split\n",
    "from sklearn.linear_model import LogisticRegression\n",
    "\n",
    "# Load the symptom dataset\n",
    "data = pd.read_csv(r'D:\\programs\\data_science\\dataset_symptom.csv')\n",
    "df = pd.read_csv(r'D:\\programs\\data_science\\symptom_precaution.csv')"
   ]
  },
  {
   "cell_type": "code",
   "execution_count": null,
   "metadata": {},
   "outputs": [],
   "source": [
    "data.head()"
   ]
  },
  {
   "cell_type": "code",
   "execution_count": null,
   "metadata": {},
   "outputs": [],
   "source": [
    "df.head()"
   ]
  },
  {
   "cell_type": "code",
   "execution_count": null,
   "metadata": {},
   "outputs": [],
   "source": [
    "# Extract features (symptoms) and target (disease)\n",
    "X = data[[\"Symptom_1\", \"Symptom_2\", \"Symptom_3\"]]\n",
    "y = data[\"Disease\"]\n",
    "\n",
    "# Encode categorical features (one-hot encoding)\n",
    "X_encoded = pd.get_dummies(X)\n",
    "y = y.ravel()\n",
    "\n",
    "# Split the data into training and testing sets\n",
    "X_train, X_test, y_train, y_test = train_test_split(X_encoded, y, test_size=0.2, random_state=42)\n",
    "\n",
    "# Create and train the logistic regression model\n",
    "model = LogisticRegression()\n",
    "model.fit(X_train, y_train)\n",
    "\n",
    "# Define new symptoms for prediction\n",
    "new_symptoms = [[\"itching\", \"skin_rash\", \"nodal_skin_eruptions\"]]\n",
    "\n",
    "# Encode new symptoms\n",
    "new_symptoms_encoded = pd.get_dummies(pd.DataFrame(new_symptoms, columns=[\"Symptom_1\", \"Symptom_2\", \"Symptom_3\"]))\n",
    "\n",
    "# Ensure the new symptoms have the same columns as the training data\n",
    "aligned_features = pd.DataFrame(columns=X_encoded.columns, data=new_symptoms_encoded)\n",
    "new_symptoms_encoded = aligned_features.fillna(0)\n"
   ]
  },
  {
   "cell_type": "code",
   "execution_count": null,
   "metadata": {},
   "outputs": [],
   "source": [
    "# Predict the disease based on new symptoms\n",
    "predicted_diseases = model.predict(new_symptoms_encoded)\n",
    "print(\"Predicted Diseases:\", predicted_diseases)\n",
    "dis = predicted_diseases[0]"
   ]
  },
  {
   "cell_type": "code",
   "execution_count": 1,
   "metadata": {},
   "outputs": [
    {
     "ename": "NameError",
     "evalue": "name 'df' is not defined",
     "output_type": "error",
     "traceback": [
      "\u001b[1;31m---------------------------------------------------------------------------\u001b[0m",
      "\u001b[1;31mNameError\u001b[0m                                 Traceback (most recent call last)",
      "\u001b[1;32md:\\programs\\data_science\\data_science_practicals\\pract2.ipynb Cell 6\u001b[0m line \u001b[0;36m2\n\u001b[0;32m      <a href='vscode-notebook-cell:/d%3A/programs/data_science/data_science_practicals/pract2.ipynb#W5sZmlsZQ%3D%3D?line=0'>1</a>\u001b[0m \u001b[39m# Retrieve precautions for the predicted disease\u001b[39;00m\n\u001b[1;32m----> <a href='vscode-notebook-cell:/d%3A/programs/data_science/data_science_practicals/pract2.ipynb#W5sZmlsZQ%3D%3D?line=1'>2</a>\u001b[0m p1 \u001b[39m=\u001b[39m df[df[\u001b[39m'\u001b[39m\u001b[39mDisease\u001b[39m\u001b[39m'\u001b[39m] \u001b[39m==\u001b[39m dis][\u001b[39m'\u001b[39m\u001b[39mPrecaution_1\u001b[39m\u001b[39m'\u001b[39m]\n\u001b[0;32m      <a href='vscode-notebook-cell:/d%3A/programs/data_science/data_science_practicals/pract2.ipynb#W5sZmlsZQ%3D%3D?line=2'>3</a>\u001b[0m p2 \u001b[39m=\u001b[39m df[df[\u001b[39m'\u001b[39m\u001b[39mDisease\u001b[39m\u001b[39m'\u001b[39m] \u001b[39m==\u001b[39m dis][\u001b[39m'\u001b[39m\u001b[39mPrecaution_2\u001b[39m\u001b[39m'\u001b[39m]\n\u001b[0;32m      <a href='vscode-notebook-cell:/d%3A/programs/data_science/data_science_practicals/pract2.ipynb#W5sZmlsZQ%3D%3D?line=3'>4</a>\u001b[0m p3 \u001b[39m=\u001b[39m df[df[\u001b[39m'\u001b[39m\u001b[39mDisease\u001b[39m\u001b[39m'\u001b[39m] \u001b[39m==\u001b[39m dis][\u001b[39m'\u001b[39m\u001b[39mPrecaution_3\u001b[39m\u001b[39m'\u001b[39m]\n",
      "\u001b[1;31mNameError\u001b[0m: name 'df' is not defined"
     ]
    }
   ],
   "source": [
    "# Retrieve precautions for the predicted disease\n",
    "p1 = df[df['Disease'] == dis]['Precaution_1']\n",
    "p2 = df[df['Disease'] == dis]['Precaution_2']\n",
    "p3 = df[df['Disease'] == dis]['Precaution_3']\n",
    "p4 = df[df['Disease'] == dis]['Precaution_4']\n",
    "prec = [p1.values[0], p2.values[0], p3.values[0], p4.values[0]]\n",
    "print(\"Precautions:\", prec)"
   ]
  }
 ],
 "metadata": {
  "kernelspec": {
   "display_name": "Python 3",
   "language": "python",
   "name": "python3"
  },
  "language_info": {
   "codemirror_mode": {
    "name": "ipython",
    "version": 3
   },
   "file_extension": ".py",
   "mimetype": "text/x-python",
   "name": "python",
   "nbconvert_exporter": "python",
   "pygments_lexer": "ipython3",
   "version": "3.11.5"
  },
  "orig_nbformat": 4
 },
 "nbformat": 4,
 "nbformat_minor": 2
}
